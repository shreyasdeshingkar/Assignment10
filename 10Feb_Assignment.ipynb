{
 "cells": [
  {
   "cell_type": "markdown",
   "id": "f2a55bb4-7dee-468a-833c-8002c3474737",
   "metadata": {},
   "source": [
    "In Python, the open() function is used to open a file. The open() function takes two arguments: the name of the file to be opened and the mode in which the file is to be opened.\n",
    "\n",
    "There are different modes of opening a file in Python, which are listed below:\n",
    "\n",
    "\"r\" - Read mode: This is the default mode. It is used to open an existing file for reading. If the file does not exist, an error is raised.\n",
    "\"w\" - Write mode: This mode is used to create a new file or overwrite an existing file. If the file exists, its contents are deleted. If the       file does not exist, a new file is created.\n",
    "\"a\" - Append mode: This mode is used to open an existing file for writing. If the file exists, the new data is written at the end of the           file. If the file does not exist, a new file is created.\n",
    "\"x\" - Exclusive creation mode: This mode is used to create a new file, but it raises an error if the file already exists.\n",
    "\"b\" - Binary mode: This mode is used to open a file in binary mode. This is used for non-text files like images, audio files, etc.\n",
    "\"t\" - Text mode: This is the default mode for opening a file in text mode. It is used for text files like .txt, .csv, etc.\n",
    "\"+\" - Read/Write mode: This mode is used to open a file for both reading and writing.\n",
    "Here's an example of how to use the open() function to open a file in different modes:"
   ]
  },
  {
   "cell_type": "code",
   "execution_count": 2,
   "id": "2d97bcba-0a67-4971-bc06-50ccccf7ba94",
   "metadata": {},
   "outputs": [],
   "source": [
    "\n",
    "file = open(\"file.txt\", \"r\")\n",
    "print(file.read())\n",
    "file.close()\n",
    "\n",
    "\n",
    "file = open(\"file.txt\", \"w\")\n",
    "file.write(\"Hello, World!\")\n",
    "file.close()\n",
    "\n",
    "\n",
    "file = open(\"file.txt\", \"a\")\n",
    "file.write(\"\\nThis is a new line.\")\n",
    "file.close()\n"
   ]
  },
  {
   "cell_type": "markdown",
   "id": "5786b500-7232-42e9-8b10-020678d724c3",
   "metadata": {},
   "source": [
    "Que 2)Ans=>"
   ]
  },
  {
   "cell_type": "markdown",
   "id": "1feade92-9fa4-4ee2-88ed-7ae59646ce7d",
   "metadata": {},
   "source": [
    "The close() function is used to close a file that was opened using the open() function in Python. It is important to close a file after it has been opened because it releases the system resources that were being used to keep the file open. If a file is not closed properly, it can lead to data corruption or other problems.\n",
    "\n",
    "\n",
    "When a file is opened in Python, it creates a file object in memory, which holds the file handle and other information about the file. If the file is not closed, the file object remains in memory, taking up system resources that could be used for other tasks. If a program opens many files but does not close them, it can lead to resource exhaustion and cause the program to crash.\n",
    "\n",
    "Closing a file using the close() function ensures that any changes made to the file are saved to disk and that the file is no longer taking up system resources. It is good practice to always close a file after it has been opened, even if the program crashes or encounters an error, to prevent data loss or corruption.\n",
    "\n",
    "Here is an example of how to use the close() function to close a file:"
   ]
  },
  {
   "cell_type": "code",
   "execution_count": 3,
   "id": "44137ed3-8865-4f58-9d2c-19d275d32835",
   "metadata": {},
   "outputs": [],
   "source": [
    "file = open(\"example.txt\", \"w\")\n",
    "file.write(\"Hello, world!\")\n",
    "file.close()\n"
   ]
  },
  {
   "cell_type": "markdown",
   "id": "bc390e44-5a00-4042-8d33-e77d41fa05bb",
   "metadata": {},
   "source": [
    "Que 3)Ans=>"
   ]
  },
  {
   "cell_type": "code",
   "execution_count": 4,
   "id": "05677047-1f5b-4278-bf13-20aebe1bbb2c",
   "metadata": {},
   "outputs": [
    {
     "name": "stdout",
     "output_type": "stream",
     "text": [
      "I want to become a Data Scientist\n"
     ]
    }
   ],
   "source": [
    "# Open a file in write mode\n",
    "file = open(\"data.txt\", \"w\")\n",
    "\n",
    "# Write a string to the file\n",
    "file.write(\"I want to become a Data Scientist\")\n",
    "\n",
    "# Close the file\n",
    "file.close()\n",
    "\n",
    "# Open the file in read mode\n",
    "file = open(\"data.txt\", \"r\")\n",
    "\n",
    "# Read the contents of the file\n",
    "contents = file.read()\n",
    "\n",
    "# Close the file\n",
    "file.close()\n",
    "\n",
    "# Print the contents of the file\n",
    "print(contents)\n"
   ]
  },
  {
   "cell_type": "markdown",
   "id": "cd565a8e-c523-47b7-a134-5301290ca0e8",
   "metadata": {},
   "source": [
    "Que 4)Ans=>"
   ]
  },
  {
   "cell_type": "markdown",
   "id": "8917f929-d1f6-43e0-a985-0a5f9bbdb2c2",
   "metadata": {},
   "source": [
    "In Python, the read(), readline(), and readlines() methods are used to read the contents of a file. Here's an explanation of each method with an example code:\n",
    "\n",
    "read(): The read() method is used to read the entire contents of a file. It returns a string containing all the characters in the file."
   ]
  },
  {
   "cell_type": "code",
   "execution_count": null,
   "id": "6ba6784e-666b-4910-a707-3965b96e11d7",
   "metadata": {},
   "outputs": [],
   "source": [
    "# Open a file in read mode\n",
    "file = open(\"example.txt\", \"r\")\n",
    "\n",
    "# Read the entire contents of the file\n",
    "content = file.read()\n",
    "\n",
    "# Close the file\n",
    "file.close()\n",
    "\n",
    "# Print the contents of the file\n",
    "print(content)\n"
   ]
  },
  {
   "cell_type": "markdown",
   "id": "ff9dc534-3a56-4361-a8d9-682cda795093",
   "metadata": {},
   "source": [
    "readline(): The readline() method is used to read a single line from a file. It returns a string containing the characters in the line, including the newline character at the end."
   ]
  },
  {
   "cell_type": "code",
   "execution_count": null,
   "id": "92102485-1043-4f58-b93d-3a6325ff0603",
   "metadata": {},
   "outputs": [],
   "source": [
    "# Open a file in read mode\n",
    "file = open(\"example.txt\", \"r\")\n",
    "\n",
    "# Read the first line of the file\n",
    "line = file.readline()\n",
    "\n",
    "# Close the file\n",
    "file.close()\n",
    "\n",
    "# Print the first line of the file\n",
    "print(line)\n"
   ]
  },
  {
   "cell_type": "markdown",
   "id": "6292f048-6c0e-41e7-a161-1682d76b53ac",
   "metadata": {},
   "source": [
    "readlines(): The readlines() method is used to read all the lines of a file into a list. Each line is represented by a string in the list, including the newline character at the end."
   ]
  },
  {
   "cell_type": "code",
   "execution_count": null,
   "id": "afcc71ea-3d79-4d72-b5c5-6b4c8d44b39c",
   "metadata": {},
   "outputs": [],
   "source": [
    "# Open a file in read mode\n",
    "file = open(\"example.txt\", \"r\")\n",
    "\n",
    "# Read all the lines of the file\n",
    "lines = file.readlines()\n",
    "\n",
    "# Close the file\n",
    "file.close()\n",
    "\n",
    "# Print all the lines of the file\n",
    "for line in lines:\n",
    "    print(line)\n"
   ]
  },
  {
   "cell_type": "markdown",
   "id": "142fd600-a9fb-4580-9e58-8a11db825a3d",
   "metadata": {},
   "source": [
    "Que 5)Ans=>"
   ]
  },
  {
   "cell_type": "markdown",
   "id": "e738f4cc-290b-4f47-b2fa-9bc6479ed9b9",
   "metadata": {},
   "source": [
    "In Python, the with statement is used with the open() function to ensure that a file is properly closed after it has been used. When a file is opened using the open() function, the file remains in an open state until it is explicitly closed using the close() method of the file object.\n",
    "\n",
    "The with statement provides a convenient way to open a file, perform some operations on the file, and then automatically close the file when the operations are complete. Here's an example of using the with statement with open()"
   ]
  },
  {
   "cell_type": "code",
   "execution_count": null,
   "id": "9e948e15-67b8-4caf-9213-4175eab20dff",
   "metadata": {},
   "outputs": [],
   "source": [
    "with open('example.txt', 'r') as file:\n",
    "    content = file.read()\n",
    "    print(content)\n"
   ]
  },
  {
   "cell_type": "markdown",
   "id": "c84877fe-b0f8-41ae-9710-914736e2f23b",
   "metadata": {},
   "source": [
    "Que 6)Ans=>"
   ]
  },
  {
   "cell_type": "markdown",
   "id": "4edae355-b123-4c9e-8e5a-774301f2f884",
   "metadata": {},
   "source": [
    "n Python, the write() and writelines() functions are used to write data to a file. Here's a brief explanation of each function:\n",
    "\n",
    "write() - This function is used to write a single string or a sequence of characters to a file. If the file is opened in write mode, the data that is written to the file will overwrite any existing data in the file. If the file is opened in append mode, the data will be added to the end of the file.\n",
    "\n",
    "writelines() - This function is used to write a list of strings or a sequence of lines to a file. Each string in the list will be written to a separate line in the file.\n",
    "\n",
    "Here's an example of using the write() and writelines() functions to write data to a file:"
   ]
  },
  {
   "cell_type": "code",
   "execution_count": null,
   "id": "0162dc6c-044a-434c-8bab-71f92d7ddc00",
   "metadata": {},
   "outputs": [],
   "source": [
    "# Open a file for writing\n",
    "with open('example.txt', 'w') as file:\n",
    "    \n",
    "    # Write a single line of text to the file\n",
    "    file.write('I want to become a data scientist\\n')\n",
    "    \n",
    "    # Write multiple lines of text to the file\n",
    "    lines = ['I want to learn machine learning\\n', 'I want to master deep learning\\n', 'I want to apply AI in real-world problems\\n']\n",
    "    file.writelines(lines)\n"
   ]
  }
 ],
 "metadata": {
  "kernelspec": {
   "display_name": "Python 3 (ipykernel)",
   "language": "python",
   "name": "python3"
  },
  "language_info": {
   "codemirror_mode": {
    "name": "ipython",
    "version": 3
   },
   "file_extension": ".py",
   "mimetype": "text/x-python",
   "name": "python",
   "nbconvert_exporter": "python",
   "pygments_lexer": "ipython3",
   "version": "3.10.8"
  }
 },
 "nbformat": 4,
 "nbformat_minor": 5
}
